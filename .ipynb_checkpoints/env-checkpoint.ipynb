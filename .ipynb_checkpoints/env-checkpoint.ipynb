{
 "cells": [
  {
   "cell_type": "markdown",
   "metadata": {},
   "source": [
    "# Envision 2022"
   ]
  },
  {
   "cell_type": "markdown",
   "metadata": {},
   "source": [
    "## Basic Setup\n",
    "\n",
    "Importing and Loading the URDF"
   ]
  },
  {
   "cell_type": "code",
   "execution_count": 1,
   "metadata": {},
   "outputs": [
    {
     "name": "stderr",
     "output_type": "stream",
     "text": [
      "pybullet build time: Oct 11 2021 21:00:24\n"
     ]
    }
   ],
   "source": [
    "import pybullet as p\n",
    "\n",
    "physicsClientID = p.connect(p.GUI)\n",
    "\n",
    "import pybullet_data\n",
    "\n",
    "p.setAdditionalSearchPath(pybullet_data.getDataPath())"
   ]
  },
  {
   "cell_type": "code",
   "execution_count": 2,
   "metadata": {
    "scrolled": true
   },
   "outputs": [
    {
     "name": "stdout",
     "output_type": "stream",
     "text": [
      "0\n"
     ]
    }
   ],
   "source": [
    "plane = p.loadURDF('plane.urdf')\n",
    "\n",
    "print(plane)"
   ]
  },
  {
   "cell_type": "code",
   "execution_count": 3,
   "metadata": {
    "scrolled": true
   },
   "outputs": [
    {
     "name": "stdout",
     "output_type": "stream",
     "text": [
      "Start Position = [0, 0, 1]\n",
      "Start Orientation = (0.0, 0.0, 0.0, 1.0)\n"
     ]
    }
   ],
   "source": [
    "StartPos = [0,0,1]\n",
    "\n",
    "StartOrientation = p.getQuaternionFromEuler([0,0,0])\n",
    "\n",
    "print(f\"Start Position = {StartPos}\\nStart Orientation = {StartOrientation}\")"
   ]
  },
  {
   "cell_type": "code",
   "execution_count": 4,
   "metadata": {
    "scrolled": true
   },
   "outputs": [
    {
     "name": "stdout",
     "output_type": "stream",
     "text": [
      "1\n"
     ]
    }
   ],
   "source": [
    "robot = p.loadURDF(\"kuka_experimental/kuka_lbr_iiwa_support/urdf/lbr_iiwa_14_r820.urdf\",StartPos, StartOrientation)\n",
    "\n",
    "print(robot)"
   ]
  },
  {
   "cell_type": "code",
   "execution_count": 5,
   "metadata": {
    "scrolled": true
   },
   "outputs": [
    {
     "name": "stdout",
     "output_type": "stream",
     "text": [
      "Number of joints = 9\n"
     ]
    }
   ],
   "source": [
    "numOfJoints = p.getNumJoints(robot)\n",
    "\n",
    "print(f\"Number of joints = {numOfJoints}\")"
   ]
  },
  {
   "cell_type": "code",
   "execution_count": 6,
   "metadata": {
    "scrolled": true
   },
   "outputs": [
    {
     "name": "stdout",
     "output_type": "stream",
     "text": [
      "(0, b'joint_a1', 0, 7, 6, 1, 0.0, 0.0, -2.9668, 2.9668, 0.0, 1.4834, b'link_1', (0.0, 0.0, 1.0), (0.0, 0.0, 0.0), (0.0, 0.0, 0.0, 1.0), -1)\n",
      "(1, b'joint_a2', 0, 8, 7, 1, 0.0, 0.0, -2.0942, 2.0942, 0.0, 1.4834, b'link_2', (0.0, 1.0, 0.0), (-0.00043624, 0.0, 0.36), (0.0, 0.0, 0.0, 1.0), 0)\n",
      "(2, b'joint_a3', 0, 9, 8, 1, 0.0, 0.0, -2.9668, 2.9668, 0.0, 1.7452, b'link_3', (0.0, 0.0, 1.0), (0.0, 0.0, 0.0), (0.0, 0.0, 0.0, 1.0), 1)\n",
      "(3, b'joint_a4', 0, 10, 9, 1, 0.0, 0.0, -2.0942, 2.0942, 0.0, 1.3089, b'link_4', (0.0, -1.0, 0.0), (0.00043624, 0.0, 0.42), (0.0, 0.0, 0.0, 1.0), 2)\n",
      "(4, b'joint_a5', 0, 11, 10, 1, 0.0, 0.0, -2.9668, 2.9668, 0.0, 2.2688, b'link_5', (0.0, 0.0, 1.0), (0.0, 0.0, 0.0), (0.0, 0.0, 0.0, 1.0), 3)\n",
      "(5, b'joint_a6', 0, 12, 11, 1, 0.0, 0.0, -2.0942, 2.0942, 0.0, 2.356, b'link_6', (0.0, 1.0, 0.0), (0.0, 0.0, 0.4), (0.0, 0.0, 0.0, 1.0), 4)\n",
      "(6, b'joint_a7', 0, 13, 12, 1, 0.0, 0.0, -3.0541, 3.0541, 0.0, 2.356, b'link_7', (0.0, 0.0, 1.0), (0.0, 0.0, 0.0), (0.0, 0.0, 0.0, 1.0), 5)\n",
      "(7, b'joint_a7-tool0', 4, -1, -1, 0, 0.0, 0.0, 0.0, -1.0, 0.0, 0.0, b'tool0', (0.0, 0.0, 0.0), (0.0, 0.0, 0.126), (0.0, 0.0, 0.0, 1.0), 6)\n",
      "(8, b'base_link-base', 4, -1, -1, 0, 0.0, 0.0, 0.0, -1.0, 0.0, 0.0, b'base', (0.0, 0.0, 0.0), (0.0, 0.0, 0.0), (0.0, 0.0, 0.0, 1.0), -1)\n"
     ]
    }
   ],
   "source": [
    "for i in range(numOfJoints):\n",
    "    print(p.getJointInfo(robot, i))"
   ]
  },
  {
   "cell_type": "markdown",
   "metadata": {},
   "source": [
    "## Setting Up Camera"
   ]
  },
  {
   "cell_type": "code",
   "execution_count": 7,
   "metadata": {},
   "outputs": [
    {
     "data": {
      "text/plain": [
       "(1,\n",
       " b'joint_a2',\n",
       " 0,\n",
       " 8,\n",
       " 7,\n",
       " 1,\n",
       " 0.0,\n",
       " 0.0,\n",
       " -2.0942,\n",
       " 2.0942,\n",
       " 0.0,\n",
       " 1.4834,\n",
       " b'link_2',\n",
       " (0.0, 1.0, 0.0),\n",
       " (-0.00043624, 0.0, 0.36),\n",
       " (0.0, 0.0, 0.0, 1.0),\n",
       " 0)"
      ]
     },
     "execution_count": 7,
     "metadata": {},
     "output_type": "execute_result"
    }
   ],
   "source": [
    "p.getJointInfo(robot, 1)"
   ]
  },
  {
   "cell_type": "code",
   "execution_count": null,
   "metadata": {},
   "outputs": [],
   "source": []
  },
  {
   "cell_type": "code",
   "execution_count": null,
   "metadata": {},
   "outputs": [],
   "source": []
  },
  {
   "cell_type": "code",
   "execution_count": null,
   "metadata": {},
   "outputs": [],
   "source": []
  },
  {
   "cell_type": "code",
   "execution_count": 10,
   "metadata": {
    "scrolled": true
   },
   "outputs": [],
   "source": [
    "p.setJointMotorControlArray(robot, range(9), p.VELOCITY_CONTROL, targetVelocities =  [0.2]*9)"
   ]
  },
  {
   "cell_type": "code",
   "execution_count": 9,
   "metadata": {
    "scrolled": true
   },
   "outputs": [],
   "source": [
    "p.setJointMotorControl2(robot, 1, p.VELOCITY_CONTROL, targetVelocity =  0.2)"
   ]
  },
  {
   "cell_type": "code",
   "execution_count": null,
   "metadata": {
    "scrolled": true
   },
   "outputs": [],
   "source": [
    "p.setGravity(0, 0, 0)"
   ]
  },
  {
   "cell_type": "code",
   "execution_count": null,
   "metadata": {
    "scrolled": true
   },
   "outputs": [],
   "source": [
    "p.setRealTimeSimulation(1)"
   ]
  },
  {
   "cell_type": "code",
   "execution_count": null,
   "metadata": {
    "scrolled": true
   },
   "outputs": [],
   "source": [
    "p.resetSimulation()"
   ]
  },
  {
   "cell_type": "code",
   "execution_count": null,
   "metadata": {
    "scrolled": true
   },
   "outputs": [],
   "source": [
    "p.disconnect()"
   ]
  }
 ],
 "metadata": {
  "kernelspec": {
   "display_name": "Python [conda env:pyb_env] *",
   "language": "python",
   "name": "conda-env-pyb_env-py"
  },
  "language_info": {
   "codemirror_mode": {
    "name": "ipython",
    "version": 3
   },
   "file_extension": ".py",
   "mimetype": "text/x-python",
   "name": "python",
   "nbconvert_exporter": "python",
   "pygments_lexer": "ipython3",
   "version": "3.9.7"
  },
  "vscode": {
   "interpreter": {
    "hash": "e13bd7e544d8e407ca1c751c23b38f62a937c2e38c19465606db3aa223068a21"
   }
  }
 },
 "nbformat": 4,
 "nbformat_minor": 2
}
